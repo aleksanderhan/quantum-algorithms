{
 "cells": [
  {
   "cell_type": "code",
   "execution_count": 6,
   "id": "4cb23323",
   "metadata": {},
   "outputs": [
    {
     "name": "stdout",
     "output_type": "stream",
     "text": [
      "Requirement already satisfied: pip in /home/aleks/anaconda3/lib/python3.10/site-packages (22.3.1)\n",
      "Requirement already satisfied: typing-extensions in /home/aleks/anaconda3/lib/python3.10/site-packages (4.4.0)\n",
      "Requirement already satisfied: boto3 in /home/aleks/anaconda3/lib/python3.10/site-packages (1.26.26)\n",
      "Requirement already satisfied: s3transfer<0.7.0,>=0.6.0 in /home/aleks/anaconda3/lib/python3.10/site-packages (from boto3) (0.6.0)\n",
      "Requirement already satisfied: jmespath<2.0.0,>=0.7.1 in /home/aleks/anaconda3/lib/python3.10/site-packages (from boto3) (1.0.1)\n",
      "Requirement already satisfied: botocore<1.30.0,>=1.29.26 in /home/aleks/anaconda3/lib/python3.10/site-packages (from boto3) (1.29.26)\n",
      "Requirement already satisfied: urllib3<1.27,>=1.25.4 in /home/aleks/anaconda3/lib/python3.10/site-packages (from botocore<1.30.0,>=1.29.26->boto3) (1.26.13)\n",
      "Requirement already satisfied: python-dateutil<3.0.0,>=2.1 in /home/aleks/anaconda3/lib/python3.10/site-packages (from botocore<1.30.0,>=1.29.26->boto3) (2.8.2)\n",
      "Requirement already satisfied: six>=1.5 in /home/aleks/anaconda3/lib/python3.10/site-packages (from python-dateutil<3.0.0,>=2.1->botocore<1.30.0,>=1.29.26->boto3) (1.16.0)\n",
      "Requirement already satisfied: amazon-braket-sdk in /home/aleks/anaconda3/lib/python3.10/site-packages (1.35.1)\n",
      "Requirement already satisfied: networkx in /home/aleks/anaconda3/lib/python3.10/site-packages (from amazon-braket-sdk) (2.8.8)\n",
      "Requirement already satisfied: numpy in /home/aleks/anaconda3/lib/python3.10/site-packages (from amazon-braket-sdk) (1.23.5)\n",
      "Requirement already satisfied: backoff in /home/aleks/anaconda3/lib/python3.10/site-packages (from amazon-braket-sdk) (2.2.1)\n",
      "Requirement already satisfied: amazon-braket-default-simulator>=1.11.0 in /home/aleks/anaconda3/lib/python3.10/site-packages (from amazon-braket-sdk) (1.11.0)\n",
      "Requirement already satisfied: oqpy~=0.1.1 in /home/aleks/anaconda3/lib/python3.10/site-packages (from amazon-braket-sdk) (0.1.2)\n",
      "Requirement already satisfied: nest-asyncio in /home/aleks/anaconda3/lib/python3.10/site-packages (from amazon-braket-sdk) (1.5.6)\n",
      "Requirement already satisfied: openpulse in /home/aleks/anaconda3/lib/python3.10/site-packages (from amazon-braket-sdk) (0.4.1)\n",
      "Requirement already satisfied: openqasm3 in /home/aleks/anaconda3/lib/python3.10/site-packages (from amazon-braket-sdk) (0.4.0)\n",
      "Requirement already satisfied: sympy in /home/aleks/anaconda3/lib/python3.10/site-packages (from amazon-braket-sdk) (1.11.1)\n",
      "Requirement already satisfied: boto3>=1.22.3 in /home/aleks/anaconda3/lib/python3.10/site-packages (from amazon-braket-sdk) (1.26.26)\n",
      "Requirement already satisfied: amazon-braket-schemas>=1.14.0 in /home/aleks/anaconda3/lib/python3.10/site-packages (from amazon-braket-sdk) (1.14.0)\n",
      "Requirement already satisfied: boltons in /home/aleks/anaconda3/lib/python3.10/site-packages (from amazon-braket-sdk) (21.0.0)\n",
      "Requirement already satisfied: opt-einsum in /home/aleks/anaconda3/lib/python3.10/site-packages (from amazon-braket-default-simulator>=1.11.0->amazon-braket-sdk) (3.3.0)\n",
      "Requirement already satisfied: antlr4-python3-runtime==4.9.2 in /home/aleks/anaconda3/lib/python3.10/site-packages (from amazon-braket-default-simulator>=1.11.0->amazon-braket-sdk) (4.9.2)\n",
      "Requirement already satisfied: pydantic<2.0,>=1.9 in /home/aleks/anaconda3/lib/python3.10/site-packages (from amazon-braket-default-simulator>=1.11.0->amazon-braket-sdk) (1.10.2)\n",
      "Requirement already satisfied: scipy in /home/aleks/anaconda3/lib/python3.10/site-packages (from amazon-braket-default-simulator>=1.11.0->amazon-braket-sdk) (1.9.3)\n",
      "Requirement already satisfied: jmespath<2.0.0,>=0.7.1 in /home/aleks/anaconda3/lib/python3.10/site-packages (from boto3>=1.22.3->amazon-braket-sdk) (1.0.1)\n",
      "Requirement already satisfied: botocore<1.30.0,>=1.29.26 in /home/aleks/anaconda3/lib/python3.10/site-packages (from boto3>=1.22.3->amazon-braket-sdk) (1.29.26)\n",
      "Requirement already satisfied: s3transfer<0.7.0,>=0.6.0 in /home/aleks/anaconda3/lib/python3.10/site-packages (from boto3>=1.22.3->amazon-braket-sdk) (0.6.0)\n",
      "Requirement already satisfied: mypy-extensions>=0.2.0 in /home/aleks/anaconda3/lib/python3.10/site-packages (from oqpy~=0.1.1->amazon-braket-sdk) (0.4.3)\n",
      "Requirement already satisfied: mpmath>=0.19 in /home/aleks/anaconda3/lib/python3.10/site-packages (from sympy->amazon-braket-sdk) (1.2.1)\n",
      "Requirement already satisfied: python-dateutil<3.0.0,>=2.1 in /home/aleks/anaconda3/lib/python3.10/site-packages (from botocore<1.30.0,>=1.29.26->boto3>=1.22.3->amazon-braket-sdk) (2.8.2)\n",
      "Requirement already satisfied: urllib3<1.27,>=1.25.4 in /home/aleks/anaconda3/lib/python3.10/site-packages (from botocore<1.30.0,>=1.29.26->boto3>=1.22.3->amazon-braket-sdk) (1.26.13)\n",
      "Requirement already satisfied: typing-extensions>=4.1.0 in /home/aleks/anaconda3/lib/python3.10/site-packages (from pydantic<2.0,>=1.9->amazon-braket-default-simulator>=1.11.0->amazon-braket-sdk) (4.4.0)\n",
      "Requirement already satisfied: six>=1.5 in /home/aleks/anaconda3/lib/python3.10/site-packages (from python-dateutil<3.0.0,>=2.1->botocore<1.30.0,>=1.29.26->boto3>=1.22.3->amazon-braket-sdk) (1.16.0)\n",
      "Requirement already satisfied: amazon-braket-sdk in /home/aleks/anaconda3/lib/python3.10/site-packages (1.35.1)\n",
      "Requirement already satisfied: sympy in /home/aleks/anaconda3/lib/python3.10/site-packages (from amazon-braket-sdk) (1.11.1)\n",
      "Requirement already satisfied: networkx in /home/aleks/anaconda3/lib/python3.10/site-packages (from amazon-braket-sdk) (2.8.8)\n",
      "Requirement already satisfied: numpy in /home/aleks/anaconda3/lib/python3.10/site-packages (from amazon-braket-sdk) (1.23.5)\n",
      "Requirement already satisfied: amazon-braket-schemas>=1.14.0 in /home/aleks/anaconda3/lib/python3.10/site-packages (from amazon-braket-sdk) (1.14.0)\n",
      "Requirement already satisfied: nest-asyncio in /home/aleks/anaconda3/lib/python3.10/site-packages (from amazon-braket-sdk) (1.5.6)\n",
      "Requirement already satisfied: amazon-braket-default-simulator>=1.11.0 in /home/aleks/anaconda3/lib/python3.10/site-packages (from amazon-braket-sdk) (1.11.0)\n",
      "Requirement already satisfied: oqpy~=0.1.1 in /home/aleks/anaconda3/lib/python3.10/site-packages (from amazon-braket-sdk) (0.1.2)\n",
      "Requirement already satisfied: openpulse in /home/aleks/anaconda3/lib/python3.10/site-packages (from amazon-braket-sdk) (0.4.1)\n",
      "Requirement already satisfied: backoff in /home/aleks/anaconda3/lib/python3.10/site-packages (from amazon-braket-sdk) (2.2.1)\n",
      "Requirement already satisfied: boto3>=1.22.3 in /home/aleks/anaconda3/lib/python3.10/site-packages (from amazon-braket-sdk) (1.26.26)\n",
      "Requirement already satisfied: openqasm3 in /home/aleks/anaconda3/lib/python3.10/site-packages (from amazon-braket-sdk) (0.4.0)\n",
      "Requirement already satisfied: boltons in /home/aleks/anaconda3/lib/python3.10/site-packages (from amazon-braket-sdk) (21.0.0)\n",
      "Requirement already satisfied: opt-einsum in /home/aleks/anaconda3/lib/python3.10/site-packages (from amazon-braket-default-simulator>=1.11.0->amazon-braket-sdk) (3.3.0)\n",
      "Requirement already satisfied: pydantic<2.0,>=1.9 in /home/aleks/anaconda3/lib/python3.10/site-packages (from amazon-braket-default-simulator>=1.11.0->amazon-braket-sdk) (1.10.2)\n",
      "Requirement already satisfied: scipy in /home/aleks/anaconda3/lib/python3.10/site-packages (from amazon-braket-default-simulator>=1.11.0->amazon-braket-sdk) (1.9.3)\n",
      "Requirement already satisfied: antlr4-python3-runtime==4.9.2 in /home/aleks/anaconda3/lib/python3.10/site-packages (from amazon-braket-default-simulator>=1.11.0->amazon-braket-sdk) (4.9.2)\n",
      "Requirement already satisfied: s3transfer<0.7.0,>=0.6.0 in /home/aleks/anaconda3/lib/python3.10/site-packages (from boto3>=1.22.3->amazon-braket-sdk) (0.6.0)\n",
      "Requirement already satisfied: botocore<1.30.0,>=1.29.26 in /home/aleks/anaconda3/lib/python3.10/site-packages (from boto3>=1.22.3->amazon-braket-sdk) (1.29.26)\n",
      "Requirement already satisfied: jmespath<2.0.0,>=0.7.1 in /home/aleks/anaconda3/lib/python3.10/site-packages (from boto3>=1.22.3->amazon-braket-sdk) (1.0.1)\n",
      "Requirement already satisfied: mypy-extensions>=0.2.0 in /home/aleks/anaconda3/lib/python3.10/site-packages (from oqpy~=0.1.1->amazon-braket-sdk) (0.4.3)\n",
      "Requirement already satisfied: mpmath>=0.19 in /home/aleks/anaconda3/lib/python3.10/site-packages (from sympy->amazon-braket-sdk) (1.2.1)\n"
     ]
    },
    {
     "name": "stdout",
     "output_type": "stream",
     "text": [
      "Requirement already satisfied: python-dateutil<3.0.0,>=2.1 in /home/aleks/anaconda3/lib/python3.10/site-packages (from botocore<1.30.0,>=1.29.26->boto3>=1.22.3->amazon-braket-sdk) (2.8.2)\n",
      "Requirement already satisfied: urllib3<1.27,>=1.25.4 in /home/aleks/anaconda3/lib/python3.10/site-packages (from botocore<1.30.0,>=1.29.26->boto3>=1.22.3->amazon-braket-sdk) (1.26.13)\n",
      "Requirement already satisfied: typing-extensions>=4.1.0 in /home/aleks/anaconda3/lib/python3.10/site-packages (from pydantic<2.0,>=1.9->amazon-braket-default-simulator>=1.11.0->amazon-braket-sdk) (4.4.0)\n",
      "Requirement already satisfied: six>=1.5 in /home/aleks/anaconda3/lib/python3.10/site-packages (from python-dateutil<3.0.0,>=2.1->botocore<1.30.0,>=1.29.26->boto3>=1.22.3->amazon-braket-sdk) (1.16.0)\n",
      "Requirement already satisfied: amazon-braket-schemas in /home/aleks/anaconda3/lib/python3.10/site-packages (1.14.0)\n",
      "Requirement already satisfied: pydantic<2.0.0,>=1.8.2 in /home/aleks/anaconda3/lib/python3.10/site-packages (from amazon-braket-schemas) (1.10.2)\n",
      "Requirement already satisfied: typing-extensions>=4.1.0 in /home/aleks/anaconda3/lib/python3.10/site-packages (from pydantic<2.0.0,>=1.8.2->amazon-braket-schemas) (4.4.0)\n"
     ]
    }
   ],
   "source": [
    "# Dependencies\n",
    "!pip install --upgrade pip\n",
    "!pip install typing-extensions\n",
    "!pip install boto3\n",
    "!pip install amazon-braket-sdk --upgrade --upgrade-strategy eager\n",
    "!pip install --upgrade amazon-braket-sdk\n",
    "!pip install --upgrade amazon-braket-schemas"
   ]
  },
  {
   "cell_type": "code",
   "execution_count": 1,
   "id": "f12cc971",
   "metadata": {},
   "outputs": [],
   "source": [
    "# General imports\n",
    "import numpy as np\n",
    "import math\n",
    "import matplotlib.pyplot as plt\n",
    "\n",
    "# AWS imports: Import Braket SDK modules\n",
    "from braket.aws import AwsDevice\n",
    "from braket.circuits import Circuit, circuit\n",
    "from braket.devices import LocalSimulator"
   ]
  },
  {
   "cell_type": "code",
   "execution_count": 2,
   "id": "85bb84c8",
   "metadata": {
    "scrolled": true
   },
   "outputs": [],
   "source": [
    "# magic word for producing visualizations in notebook\n",
    "%matplotlib inline"
   ]
  },
  {
   "cell_type": "code",
   "execution_count": 3,
   "id": "be292270",
   "metadata": {},
   "outputs": [],
   "source": [
    "# set up device: Local Simulator\n",
    "device = LocalSimulator()"
   ]
  },
  {
   "cell_type": "code",
   "execution_count": 4,
   "id": "135cd54a",
   "metadata": {},
   "outputs": [],
   "source": [
    "@circuit.subroutine(register=True)\n",
    "def qft(qubits):    \n",
    "    \"\"\"\n",
    "    Construct a circuit object corresponding to the Quantum Fourier Transform (QFT)\n",
    "    algorithm, applied to the argument qubits.\n",
    "    \n",
    "    Args:\n",
    "        qubits (int): The list of qubits on which to apply the QFT\n",
    "    \"\"\"\n",
    "    qftcirc = Circuit()\n",
    "    \n",
    "    # get number of qubits\n",
    "    num_qubits = len(qubits)\n",
    "    \n",
    "    for k in range(num_qubits):\n",
    "        # First add a Hadamard gate\n",
    "        qftcirc.h(qubits[k])\n",
    "    \n",
    "        # Then apply the controlled rotations, with weights (angles) defined by the distance to the control qubit.\n",
    "        # Start on the qubit after qubit k, and iterate until the end.  When num_qubits==1, this loop does not run.\n",
    "        for j in range(1, num_qubits - k):\n",
    "            angle = 2*math.pi/(2**(j+1))\n",
    "            qftcirc.cphaseshift(qubits[k+j], qubits[k], angle)\n",
    "            \n",
    "    # Then add SWAP gates to reverse the order of the qubits:\n",
    "    for i in range(math.floor(num_qubits/2)):\n",
    "        qftcirc.swap(qubits[i], qubits[-i-1])\n",
    "        \n",
    "    return qftcirc"
   ]
  },
  {
   "cell_type": "code",
   "execution_count": 5,
   "id": "e2dda77f",
   "metadata": {},
   "outputs": [
    {
     "name": "stdout",
     "output_type": "stream",
     "text": [
      "QFT CIRCUIT:\n",
      "T  : |0|     1     |      2      |           3           |      4      |     5     | 6  | 7  |\n",
      "                                                                                              \n",
      "q0 : -H-PHASE(1.57)-PHASE(0.79)---PHASE(0.39)--------------------------------------------SWAP-\n",
      "        |           |             |                                                      |    \n",
      "q1 : ---C-----------|-----------H-|-----------PHASE(1.57)-PHASE(0.79)---------------SWAP-|----\n",
      "                    |             |           |           |                         |    |    \n",
      "q2 : ---------------C-------------|-----------C-----------|-----------H-PHASE(1.57)-SWAP-|----\n",
      "                                  |                       |             |                |    \n",
      "q3 : -----------------------------C-----------------------C-------------C-----------H----SWAP-\n",
      "\n",
      "T  : |0|     1     |      2      |           3           |      4      |     5     | 6  | 7  |\n"
     ]
    }
   ],
   "source": [
    "# show inverse QFT example circuit\n",
    "num_qubits = 4\n",
    "qubits=range(num_qubits)\n",
    "qft_circ = qft(qubits)\n",
    "print('QFT CIRCUIT:')\n",
    "print(qft_circ)\n"
   ]
  },
  {
   "cell_type": "code",
   "execution_count": 9,
   "id": "54d402c1",
   "metadata": {},
   "outputs": [],
   "source": [
    "def create_binary_vector(num, num_qbits):\n",
    "    return list(map(int, list(bin(num).lstrip(\"0b\").zfill(num_qbits))))"
   ]
  },
  {
   "cell_type": "code",
   "execution_count": 13,
   "id": "9191bbb1",
   "metadata": {},
   "outputs": [
    {
     "name": "stdout",
     "output_type": "stream",
     "text": [
      "GateModelQuantumTaskResult(task_metadata=TaskMetadata(braketSchemaHeader=BraketSchemaHeader(name='braket.task_result.task_metadata', version='1'), id='589e13cb-f76e-4b2c-a615-10a40ce48183', shots=0, deviceId='braket_sv', deviceParameters=None, createdAt=None, endedAt=None, status=None, failureReason=None), additional_metadata=AdditionalMetadata(action=Program(braketSchemaHeader=BraketSchemaHeader(name='braket.ir.openqasm.program', version='1'), source='OPENQASM 3.0;\\nqubit[4] q;\\nh q[0];\\ncphaseshift(1.5707963267948966) q[1], q[0];\\ncphaseshift(0.7853981633974483) q[2], q[0];\\ncphaseshift(0.39269908169872414) q[3], q[0];\\nh q[1];\\ncphaseshift(1.5707963267948966) q[2], q[1];\\ncphaseshift(0.7853981633974483) q[3], q[1];\\nh q[2];\\ncphaseshift(1.5707963267948966) q[3], q[2];\\nh q[3];\\nswap q[0], q[3];\\nswap q[1], q[2];\\n#pragma braket result state_vector\\n#pragma braket result probability all', inputs={}), dwaveMetadata=None, rigettiMetadata=None, oqcMetadata=None, xanaduMetadata=None, queraMetadata=None, simulatorMetadata=None), result_types=[ResultTypeValue(type=StateVector(type=<Type.statevector: 'statevector'>), value=array([0.25+0.j, 0.25+0.j, 0.25+0.j, 0.25+0.j, 0.25+0.j, 0.25+0.j,\n",
      "       0.25+0.j, 0.25+0.j, 0.25+0.j, 0.25+0.j, 0.25+0.j, 0.25+0.j,\n",
      "       0.25+0.j, 0.25+0.j, 0.25+0.j, 0.25+0.j])), ResultTypeValue(type=Probability(targets=None, type=<Type.probability: 'probability'>), value=array([0.0625, 0.0625, 0.0625, 0.0625, 0.0625, 0.0625, 0.0625, 0.0625,\n",
      "       0.0625, 0.0625, 0.0625, 0.0625, 0.0625, 0.0625, 0.0625, 0.0625]))], values=[array([0.25+0.j, 0.25+0.j, 0.25+0.j, 0.25+0.j, 0.25+0.j, 0.25+0.j,\n",
      "       0.25+0.j, 0.25+0.j, 0.25+0.j, 0.25+0.j, 0.25+0.j, 0.25+0.j,\n",
      "       0.25+0.j, 0.25+0.j, 0.25+0.j, 0.25+0.j]), array([0.0625, 0.0625, 0.0625, 0.0625, 0.0625, 0.0625, 0.0625, 0.0625,\n",
      "       0.0625, 0.0625, 0.0625, 0.0625, 0.0625, 0.0625, 0.0625, 0.0625])], measurements=None, measured_qubits=None, measurement_counts=None, measurement_probabilities=None, measurements_copied_from_device=None, measurement_counts_copied_from_device=None, measurement_probabilities_copied_from_device=None, _result_types_indices={\"{'type': <Type.statevector: 'statevector'>}\": 0, \"{'targets': None, 'type': <Type.probability: 'probability'>}\": 1})\n",
      "Exact statevector:\n",
      " [(0.25+0j), (0.25+0j), (0.25+0j), (0.25+0j), (0.25+0j), (0.25+0j), (0.25+0j), (0.25+0j), (0.25+0j), (0.25+0j), (0.25+0j), (0.25+0j), (0.25+0j), (0.25+0j), (0.25+0j), (0.25+0j)]\n"
     ]
    },
    {
     "data": {
      "image/png": "[encoded data removed]",
      "text/plain": [
       "<Figure size 640x480 with 1 Axes>"
      ]
     },
     "metadata": {},
     "output_type": "display_data"
    }
   ],
   "source": [
    "# check output for input |0,0,0> -> expect uniform distribution\n",
    "num_qubits = 4\n",
    "qubits=range(num_qubits)\n",
    "my_qft_circ = qft(qubits)\n",
    "\n",
    "# specify desired results_types\n",
    "my_qft_circ.state_vector()\n",
    "my_qft_circ.probability()\n",
    "\n",
    "# Run the QFT on 3 qubits with all zeros input\n",
    "task = device.run(my_qft_circ, shots=0)\n",
    "result = task.result()\n",
    "print(result)\n",
    "state_vector = result.values[0]\n",
    "probs_values = result.values[1]\n",
    "\n",
    "# format statevector for output\n",
    "state_vec_pretty = np.round(state_vector, decimals=3)\n",
    "state_vec_pretty = [ampl if np.abs(ampl)>10**(-5) else 0 for ampl in state_vec_pretty]\n",
    "\n",
    "# bitstrings\n",
    "format_bitstring = '{0:0' + str(num_qubits) + 'b}'\n",
    "bitstring_keys = [format_bitstring.format(ii) for ii in range(2**num_qubits)]\n",
    "\n",
    "# Print the output state vector\n",
    "print('Exact statevector:\\n', state_vec_pretty)\n",
    "\n",
    "# plot probabalities\n",
    "plt.bar(bitstring_keys, probs_values);\n",
    "plt.xlabel('bitstrings');\n",
    "plt.ylabel('probability');"
   ]
  },
  {
   "cell_type": "code",
   "execution_count": null,
   "id": "7b570799",
   "metadata": {},
   "outputs": [],
   "source": []
  }
 ],
 "metadata": {
  "kernelspec": {
   "display_name": "Python 3 (ipykernel)",
   "language": "python",
   "name": "python3"
  },
  "language_info": {
   "codemirror_mode": {
    "name": "ipython",
    "version": 3
   },
   "file_extension": ".py",
   "mimetype": "text/x-python",
   "name": "python",
   "nbconvert_exporter": "python",
   "pygments_lexer": "ipython3",
   "version": "3.10.4"
  }
 },
 "nbformat": 4,
 "nbformat_minor": 5
}
